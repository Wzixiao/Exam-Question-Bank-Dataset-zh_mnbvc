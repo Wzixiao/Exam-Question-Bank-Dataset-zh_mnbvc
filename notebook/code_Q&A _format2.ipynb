{
 "cells": [
  {
   "cell_type": "markdown",
   "id": "5ff882f1",
   "metadata": {},
   "source": [
    "# 准备数据"
   ]
  },
  {
   "cell_type": "code",
   "execution_count": 1,
   "id": "caaa6d3b",
   "metadata": {},
   "outputs": [],
   "source": [
    "def per_process(text):\n",
    "    liens = text.splitlines()\n",
    "    liens = map(lambda x: x.replace(\"> \",\"\").replace(\">\",\"\").replace(\"*\", \"\"), liens)\n",
    "    liens = filter(lambda x: x.strip() != \"\", liens)\n",
    "   \n",
    "    return \"\\n\".join(liens)"
   ]
  },
  {
   "cell_type": "code",
   "execution_count": 2,
   "id": "d68f17e7",
   "metadata": {},
   "outputs": [],
   "source": [
    "import os\n",
    "import glob\n",
    "from pathlib import Path\n",
    "\n",
    "examination_paper_list = []\n",
    "\n",
    "path = Path(\"./answer_markdown\")\n",
    "\n",
    "for file in path.glob(\"*.md\"):\n",
    "    with open(file, \"r\", encoding=\"utf-8\") as f:\n",
    "        examination_paper_list.append({\n",
    "            \"file_path\": file,\n",
    "            \"text\": per_process(f.read())\n",
    "        })"
   ]
  },
  {
   "cell_type": "markdown",
   "id": "6acf33c2",
   "metadata": {},
   "source": [
    "# 创建寻找题目（题目以及对应的选项等）的方法"
   ]
  },
  {
   "cell_type": "code",
   "execution_count": 3,
   "id": "b3f9e617",
   "metadata": {},
   "outputs": [],
   "source": [
    "import bisect\n",
    "\n",
    "def extract_and_combine_numbers(str_val):\n",
    "    first_two_chars = str_val[:2]\n",
    "    numbers = ''.join(c for c in first_two_chars if c.isdigit())\n",
    "    \n",
    "    return int(numbers) if numbers else 0\n",
    "\n",
    "\n",
    "def max_consecutive_increasing_subsequence(topics):\n",
    "    lst = [extract_and_combine_numbers(topic) for topic in topics]\n",
    "    if not lst:\n",
    "        return None, None\n",
    "\n",
    "    max_length = 1\n",
    "    curr_length = 1\n",
    "\n",
    "    start_pos = end_pos = 0\n",
    "\n",
    "    curr_start_pos = 0\n",
    "\n",
    "    for i in range(1, len(lst)):\n",
    "        if lst[i] > lst[i - 1]:\n",
    "            curr_length += 1\n",
    "            if curr_length > max_length:\n",
    "                max_length = curr_length\n",
    "                start_pos = curr_start_pos\n",
    "                end_pos = i\n",
    "        else:\n",
    "            curr_length = 1\n",
    "            curr_start_pos = i\n",
    "\n",
    "    return start_pos, end_pos"
   ]
  },
  {
   "cell_type": "code",
   "execution_count": 4,
   "id": "a2621cb9",
   "metadata": {},
   "outputs": [],
   "source": [
    "import re\n",
    "\n",
    "def find_next_question_index(start, lines):\n",
    "    pattern = re.compile(r'^(\\d+)[．.|\\(]|^[（(]\\d+[）)]|^\\d+\\\\\\.')\n",
    "    \n",
    "    for index in range(start+1, len(lines)):\n",
    "        match = pattern.match(lines[index])\n",
    "        \n",
    "        if match:\n",
    "            return index\n",
    "\n",
    "    return len(lines)\n",
    "    \n",
    "\n",
    "def get_all_question(text):\n",
    "    lines = text.splitlines()\n",
    "    \n",
    "    all_question = []\n",
    "    \n",
    "    index = find_next_question_index(0, lines)\n",
    "    while index < len(lines):\n",
    "        next_index = find_next_question_index(index, lines)\n",
    "       \n",
    "        all_question.append(\"\\n\".join(lines[index: next_index]))\n",
    "        index = next_index\n",
    "   \n",
    "    start, end = max_consecutive_increasing_subsequence(all_question)\n",
    "        \n",
    "#     print(f\"{start} {end}\")\n",
    "    \n",
    "    if start is None:\n",
    "        return None, None\n",
    "\n",
    "    return all_question[start: end+1], all_question[end]"
   ]
  },
  {
   "cell_type": "markdown",
   "id": "422a17e4",
   "metadata": {},
   "source": [
    "# 创建测试样本"
   ]
  },
  {
   "cell_type": "code",
   "execution_count": 50,
   "id": "23b3fb2c",
   "metadata": {},
   "outputs": [],
   "source": [
    "test_text = examination_paper_list[44][\"text\"]"
   ]
  },
  {
   "cell_type": "code",
   "execution_count": 51,
   "id": "ab6a7064",
   "metadata": {},
   "outputs": [
    {
     "data": {
      "text/plain": [
       "3"
      ]
     },
     "execution_count": 51,
     "metadata": {},
     "output_type": "execute_result"
    }
   ],
   "source": [
    "find_next_question_index(0, test_text.splitlines())"
   ]
  },
  {
   "cell_type": "code",
   "execution_count": 52,
   "id": "23240a21",
   "metadata": {
    "scrolled": false
   },
   "outputs": [
    {
     "data": {
      "text/plain": [
       "['1．若tg=,则tg(+)= [ ]{.underline} .',\n",
       " '2．设抛物线的顶点坐标为(2,0),准线方程为x=－1,则它的焦点坐标为 [ ]{.underline} .',\n",
       " '3．设集合A={5,log~2~(a+3)},集合B={a,b}.若A∩B={2},则A∪B= [ ]{.underline} .',\n",
       " '4．设等比数列{a~n~}(n∈N)的公比q=－,且(a~1~+a~3~+a~5~+...+a~2n-1~)=,则a~1~= [ ]{.underline} .\\n![](./notebook/image/media/image6.jpeg)5．设奇函数f(x)的定义域为\\\\[－5,5\\\\].若当x∈\\\\[0,5\\\\]时,\\nf(x)的图象如右图,则不等式f(x)\\\\<0的\\n解是 [ ]{.underline} .',\n",
       " '6．已知点A(1, －2),若向量与={2,3}同向,\\n=2,则点B的坐标为 [ ]{.underline} .',\n",
       " '7．在极坐标系中,点M(4,)到直线l: (2cos+sin)=4的距离d= [ ]{.underline} .',\n",
       " '8．圆心在直线2x－y－7=0上的圆C与y轴交于两点A(0, －4),B(0, －2),则圆C的方程\\n为 [ ]{.underline} .',\n",
       " '9．若在二项式(x+1)^10^的展开式中任取一项,则该项的系数为奇数的概率是 [ ]{.underline} . (结果用分数表示)',\n",
       " '10．若函数f(x)=a在\\\\[0,+∞\\\\]上为增函数,则实数a、b的取值范围是 [ ]{.underline} .',\n",
       " '11．教材中\"坐标平面上的直线\"与\"圆锥曲线\"两章内容体现出解析几何的本质是 [ ]{.underline}\\n[ ]{.underline} .',\n",
       " '12．若干个能唯一确定一个数列的量称为该数列的\"基本量\".设{a~n~}是公比为q的无穷等比数列,下列{a~n~}的四组量中,一定能成为该数列\"基本量\"的是第 [ ]{.underline} 组.(写出所有符合要求的组号)\\n①S~1~与S~2~; ②a~2~与S~3~; ③a~1~与a~n~; ④q与a~n~.\\n其中n为大于1的整数, S~n~为{a~n~}的前n项和.\\n二、选择题(本大题满分16分,每小题4分)',\n",
       " '13．在下列关于直线l、m与平面α、β的命题中,真命题是 （ ）\\nA．若lβ且⊥β,则l⊥α. B．若l⊥β且∥β,则l⊥α.\\nC．若l⊥β且⊥β,则l∥α. D．若α∩β=m且l∥m,则l∥.',\n",
       " '14．已知是周期为2的函数，当的解集为 （ ）\\nA．{x│x=2kπ+,k∈Z}. B．{x\\\\|x=2kπ+,k∈Z}.\\nC．{x│x=2kπ±,k∈Z}. D．{x\\\\|x=2kπ+(－1)^K^,k∈Z}.',\n",
       " '15．若函数y=f(x)的图象可由函数y=lg(x+1)的图象绕坐标原点O逆时针旋转得到,则f(x)= （ ）\\nA．10^－x^－1. B．10^x^－1. C．1－10^－x^. D．1－10^x^.',\n",
       " '16．某地2004年第一季度应聘和招聘人数排行榜前5个行业的情况列表如下\\n  ---------- -------- -------- -------- ------- -------\\n  行业名称   计算机   机械     营销     物流    贸易\\n  应聘人数   215830   200250   154676   74570   65280\\n  ---------- -------- -------- -------- ------- -------\\n  ---------- -------- -------- ------- ------- -------\\n  行业名称   计算机   营销     机械    建筑    化工\\n  招聘人数   124620   102935   89115   76516   70436\\n  ---------- -------- -------- ------- ------- -------\\n若用同一行业中应聘人数与招聘人数比值的大小来衡量该行业的就业情况,则根据表中数据,就业形势一定是 （ ）\\nA．计算机行业好于化工行业. B．建筑行业好于物流行业.\\nC．机械行业最紧张. D．营销行业比贸易行业紧张.\\n三、解答题(本大题满分86分)',\n",
       " '17．(本题满分12分)\\n已知复数z~1~满足(1+i)z\\xad~1~=－1+5i, z\\xad~2~=a－2－i, 其中i为虚数单位,a∈R, 若\\\\<,求a的取值范围.',\n",
       " '18．(本题满分12分)\\n某单位用木料制作如图所示的框架, 框架的下部是边长分别为x、y(单位：m)的矩形.上部是等腰直角三角形. 要求框架围成的总面积8m^2^. 问x、y分别为多少(精确到0.001m) 时用料最省?\\n![](./notebook/image/media/image26.jpeg)',\n",
       " '19．(本题满分14分) 第1小题满分6分, 第2小题满分8分.\\n记函数f(x)=的定义域为A, g(x)=lg\\\\[(x－a－1)(2a－x)\\\\](a\\\\<1) 的定义域为B.\\n\\\\(1\\\\) 求A；\\n\\\\(2\\\\) 若BA, 求实数a的取值范围.',\n",
       " '20．(本题满分14分) 第1小题满分6分, 第2小题满分8分\\n已知二次函数y=f~1~(x)的图象以原点为顶点且过点(1,1),反比例函数y=f~2~(x)的图象与直线y=x的两个交点间距离为8,f(x)= f~1~(x)+ f~2~(x).\\n\\\\(1\\\\) 求函数f(x)的表达式；\\n\\\\(2\\\\) 证明:当a\\\\3时,关于x的方程f(x)= f(a) 有三个实数解.',\n",
       " '21．(本题满分16分) 第1小题满分4分, 第2小题满分6分, 第3小题满分6分\\n如图，P---ABC是底面边长为1的正三棱锥,D、E、F分别为棱长PA、PB、PC上的点, 截面DEF∥底面ABC, 且棱台DEF---ABC与棱锥P---ABC的棱长和相等.(棱长和是指多面体中所有棱的长度之和)']"
      ]
     },
     "execution_count": 52,
     "metadata": {},
     "output_type": "execute_result"
    }
   ],
   "source": [
    "# split_str 用于标记答题区和答案区的分隔\n",
    "all_question, split_str = get_all_question(test_text)\n",
    "all_question"
   ]
  },
  {
   "cell_type": "code",
   "execution_count": 33,
   "id": "8ab864ef",
   "metadata": {},
   "outputs": [],
   "source": [
    "answer_words = [\"解析\", \"答案\", \"分析\", \"详解\", \"试题解析\"]\n",
    "\n",
    "def number_of_judgments(all_question):\n",
    "    occurrence_number = 0\n",
    "    for question in all_question:\n",
    "        if any(question.find(answer_word) != -1 for answer_word in answer_words):\n",
    "            occurrence_number += 1\n",
    "    if occurrence_number < len(all_question) / 2:\n",
    "        if occurrence_number != 0: \n",
    "            occurrence_number = -1  # 答案少于题目的一半则认为答案在下方\n",
    "        else:\n",
    "            occurrence_number = 0  # 完全没答案返回-1\n",
    "    else:\n",
    "        occurrence_number = 1 #有答案在题目下方\n",
    "    return occurrence_number"
   ]
  },
  {
   "cell_type": "code",
   "execution_count": 34,
   "id": "77bbd746",
   "metadata": {},
   "outputs": [],
   "source": [
    "for index, examination_paper in enumerate(examination_paper_list):\n",
    "    all_question, split_str = get_all_question(examination_paper['text'])\n",
    "    if all_question is None:\n",
    "        continue\n",
    "    examination_paper_list[index]['occurrence_number'] = number_of_judgments(all_question)"
   ]
  },
  {
   "cell_type": "code",
   "execution_count": 36,
   "id": "95f9e4c4",
   "metadata": {
    "scrolled": true
   },
   "outputs": [
    {
     "data": {
      "text/plain": [
       "0"
      ]
     },
     "execution_count": 36,
     "metadata": {},
     "output_type": "execute_result"
    }
   ],
   "source": [
    "examination_paper_list[1]['occurrence_number']"
   ]
  },
  {
   "cell_type": "markdown",
   "id": "97a5540d",
   "metadata": {},
   "source": [
    "# 准备对齐答案的方法"
   ]
  },
  {
   "cell_type": "code",
   "execution_count": 45,
   "id": "8423f05e",
   "metadata": {},
   "outputs": [],
   "source": [
    "def generate_answer_area_string(text, split_str):\n",
    "    return text.split(split_str)[1]"
   ]
  },
  {
   "cell_type": "code",
   "execution_count": 46,
   "id": "7c63d0f8",
   "metadata": {},
   "outputs": [
    {
     "data": {
      "text/plain": [
       "'\\n1．D 2．D 3．A 4．B 5．C 6．C 7．B 8．D 9．C 10．D 11．B 12．A\\n二、填空题：本大题共4小题，每小题4分，共16分.把答案填在题中横线上.\\n13． 14．35 15．192 16．④\\n17．本小题考三角函数的基本公式以及三角函数式的恒等基础知识和基本运算技能，满分12分.\\n解法一：由已知得：\\n由已知条件可知\\n解法二：由已知条件可知\\n18．本小题主要考查线面关系和正方体等基础知识，考查空间想象能力和推理能力.满分12分.\\n解法一：（Ⅰ）∵A~1~A⊥底面ABCD，则AC是A~1~C在底面ABCD的射影.\\n∵AC⊥BD.∴A~1~C⊥BD.\\n同理A~1~C⊥DC~1~,又BD∩DC~1~=D,\\n∴A~1~C⊥平面BDC~1.~\\n（Ⅱ）取EF的中点H，连结BH、CH，\\n又E、F分别是AC、B~1~C的中点，\\n解法二：（Ⅰ）以点C为坐标原点建立如图所示的空间直角坐标系,则C(0,0,0).\\nD(1,0,0),B(0,1,0),A~1~(1,1,1),C~1~(0,0,1),D~1~(1,0,1)\\n（Ⅱ）同（I）可证，BD~1~⊥平面AB~1~C.\\n19．本小题主要考查向量的概念，平面向量的运算法则，考查运用向量及函数知识的能力，满分12分.\\n解法二：以直角顶点A为坐标原点，两直角边所在直线为坐标轴建立如图所示的平面直角坐标系.\\n20．本小题主要考查直线、双曲线的方程和性质，曲线与方程的关系，及其综合应用能力，满分12分.\\n解：（Ⅰ）将直线\\n......①\\n依题意，直线l与双曲线C的右支交于不同两点，故\\n（Ⅱ）设A、B两点的坐标分别为、，则由①式得\\n......②\\n假设存在实数k，使得以线段AB为直径的圆经过双曲线C的右焦点F（c,0）.\\n则由FA⊥FB得：\\n整理得\\n......③\\n把②式及代入③式化简得\\n21．本小题考查概率的基础知识以及运用概率知识解决 实际问题的能力，满分12分.\\n解：方案1：单独采用一种预防措施的费用均不超过120万元.由表可知，采用甲措施，可使此突发事件不发生的概率最大，其概率为0.9.\\n方案2：联合采用两种预防措施，费用不超过120万元，由表可知.联合甲、丙两种预防措施可使此突发事件不发生的概率最大，其概率为\\n1---(1---0.9)(1---0.7)=0.97.\\n方法3：联合采用三种预防措施，费用不超过120万元，故只能联合乙、丙、丁三种预防措施，此时突发事件不发生的概率为\\n1---（1---0.8）(1---0.7)(1---0.6)=1---0.024=0.976.\\n综合上述三种预防方案可知，在总费用不超过120万元的前提下，联合使用乙、丙、丁三种预防措施可使此突发事件不发生的概率最大.\\n22．本小题考查导数、切线、极值等知识及综合运用数学知识解决问题的能力.满分14分.\\n解：（Ⅰ）依题意，令\\n（Ⅱ）\\n  ----- ---- -------- ----\\n  x        x~0~   （\\n        \\\\+   0        \\\\+\\n  ----- ---- -------- ----\\n于是不是函数的极值点.\\n的变化如下：\\n  ----- ---- -------- ----- --- ----\\n  x        x~1~             （\\n        \\\\+   0        ---   0   \\\\+\\n  ----- ---- -------- ----- --- ----\\n由此，的极小值点.\\n综上所述，当且仅当'"
      ]
     },
     "execution_count": 46,
     "metadata": {},
     "output_type": "execute_result"
    }
   ],
   "source": [
    "answer_str = generate_answer_area_string(test_text, split_str)\n",
    "answer_str"
   ]
  },
  {
   "cell_type": "code",
   "execution_count": 47,
   "id": "064cb19b",
   "metadata": {},
   "outputs": [],
   "source": [
    "def alignment_answer(all_question, answer_str):\n",
    "    questions_with_answer = []\n",
    "    \n",
    "    numbers = [int(''.join(filter(str.isdigit, item[:2]))) for item in all_question]\n",
    "    answer_str = answer_str[answer_str.find(str(numbers[0])):][1:]\n",
    "    \n",
    "    for index, sequence_number in enumerate(numbers):\n",
    "        if index >= len(numbers) - 1:\n",
    "            questions_with_answer.append({\n",
    "                \"answer\": answer_str,\n",
    "                \"question\": all_question[index]\n",
    "            })\n",
    "                \n",
    "            break\n",
    "            \n",
    "        next_sequence_number = numbers[index+1]\n",
    "        split_str = answer_str.split(str(next_sequence_number))\n",
    "        answer_str = f\"{str(next_sequence_number)}\".join(split_str[1:])\n",
    "        \n",
    "        questions_with_answer.append({\n",
    "            \"answer\": str(next_sequence_number-1) + split_str[0],\n",
    "            \"question\": all_question[index]\n",
    "        })\n",
    "        \n",
    "    return questions_with_answer"
   ]
  },
  {
   "cell_type": "code",
   "execution_count": 53,
   "id": "067de428",
   "metadata": {
    "scrolled": true
   },
   "outputs": [
    {
     "name": "stdout",
     "output_type": "stream",
     "text": [
      "\n",
      "1．若tg=,则tg(+)= [ ]{.underline} .\n",
      "------------------------------------------------------------\n",
      "1．D \n",
      "\n",
      "============================================================\n",
      "\n",
      "2．设抛物线的顶点坐标为(2,0),准线方程为x=－1,则它的焦点坐标为 [ ]{.underline} .\n",
      "------------------------------------------------------------\n",
      "2．D \n",
      "\n",
      "============================================================\n",
      "\n",
      "3．设集合A={5,log~2~(a+3)},集合B={a,b}.若A∩B={2},则A∪B= [ ]{.underline} .\n",
      "------------------------------------------------------------\n",
      "3．A \n",
      "\n",
      "============================================================\n",
      "\n",
      "4．设等比数列{a~n~}(n∈N)的公比q=－,且(a~1~+a~3~+a~5~+...+a~2n-1~)=,则a~1~= [ ]{.underline} .\n",
      "![](./notebook/image/media/image6.jpeg)5．设奇函数f(x)的定义域为\\[－5,5\\].若当x∈\\[0,5\\]时,\n",
      "f(x)的图象如右图,则不等式f(x)\\<0的\n",
      "解是 [ ]{.underline} .\n",
      "------------------------------------------------------------\n",
      "5．B 5．C \n",
      "\n",
      "============================================================\n",
      "\n",
      "6．已知点A(1, －2),若向量与={2,3}同向,\n",
      "=2,则点B的坐标为 [ ]{.underline} .\n",
      "------------------------------------------------------------\n",
      "6．C \n",
      "\n",
      "============================================================\n",
      "\n",
      "7．在极坐标系中,点M(4,)到直线l: (2cos+sin)=4的距离d= [ ]{.underline} .\n",
      "------------------------------------------------------------\n",
      "7．B \n",
      "\n",
      "============================================================\n",
      "\n",
      "8．圆心在直线2x－y－7=0上的圆C与y轴交于两点A(0, －4),B(0, －2),则圆C的方程\n",
      "为 [ ]{.underline} .\n",
      "------------------------------------------------------------\n",
      "8．D \n",
      "\n",
      "============================================================\n",
      "\n",
      "9．若在二项式(x+1)^10^的展开式中任取一项,则该项的系数为奇数的概率是 [ ]{.underline} . (结果用分数表示)\n",
      "------------------------------------------------------------\n",
      "9．C \n",
      "\n",
      "============================================================\n",
      "\n",
      "10．若函数f(x)=a在\\[0,+∞\\]上为增函数,则实数a、b的取值范围是 [ ]{.underline} .\n",
      "------------------------------------------------------------\n",
      "10．D \n",
      "\n",
      "============================================================\n",
      "\n",
      "11．教材中\"坐标平面上的直线\"与\"圆锥曲线\"两章内容体现出解析几何的本质是 [ ]{.underline}\n",
      "[ ]{.underline} .\n",
      "------------------------------------------------------------\n",
      "11．B \n",
      "\n",
      "============================================================\n",
      "\n",
      "12．若干个能唯一确定一个数列的量称为该数列的\"基本量\".设{a~n~}是公比为q的无穷等比数列,下列{a~n~}的四组量中,一定能成为该数列\"基本量\"的是第 [ ]{.underline} 组.(写出所有符合要求的组号)\n",
      "①S~1~与S~2~; ②a~2~与S~3~; ③a~1~与a~n~; ④q与a~n~.\n",
      "其中n为大于1的整数, S~n~为{a~n~}的前n项和.\n",
      "二、选择题(本大题满分16分,每小题4分)\n",
      "------------------------------------------------------------\n",
      "12．A\n",
      "二、填空题：本大题共4小题，每小题4分，共16分.把答案填在题中横线上.\n",
      "\n",
      "\n",
      "============================================================\n",
      "\n",
      "13．在下列关于直线l、m与平面α、β的命题中,真命题是 （ ）\n",
      "A．若lβ且⊥β,则l⊥α. B．若l⊥β且∥β,则l⊥α.\n",
      "C．若l⊥β且⊥β,则l∥α. D．若α∩β=m且l∥m,则l∥.\n",
      "------------------------------------------------------------\n",
      "13． \n",
      "\n",
      "============================================================\n",
      "\n",
      "14．已知是周期为2的函数，当的解集为 （ ）\n",
      "A．{x│x=2kπ+,k∈Z}. B．{x\\|x=2kπ+,k∈Z}.\n",
      "C．{x│x=2kπ±,k∈Z}. D．{x\\|x=2kπ+(－1)^K^,k∈Z}.\n",
      "------------------------------------------------------------\n",
      "14．35 \n",
      "\n",
      "============================================================\n",
      "\n",
      "15．若函数y=f(x)的图象可由函数y=lg(x+1)的图象绕坐标原点O逆时针旋转得到,则f(x)= （ ）\n",
      "A．10^－x^－1. B．10^x^－1. C．1－10^－x^. D．1－10^x^.\n",
      "------------------------------------------------------------\n",
      "15．192 \n",
      "\n",
      "============================================================\n",
      "\n",
      "16．某地2004年第一季度应聘和招聘人数排行榜前5个行业的情况列表如下\n",
      "  ---------- -------- -------- -------- ------- -------\n",
      "  行业名称   计算机   机械     营销     物流    贸易\n",
      "  应聘人数   215830   200250   154676   74570   65280\n",
      "  ---------- -------- -------- -------- ------- -------\n",
      "  ---------- -------- -------- ------- ------- -------\n",
      "  行业名称   计算机   营销     机械    建筑    化工\n",
      "  招聘人数   124620   102935   89115   76516   70436\n",
      "  ---------- -------- -------- ------- ------- -------\n",
      "若用同一行业中应聘人数与招聘人数比值的大小来衡量该行业的就业情况,则根据表中数据,就业形势一定是 （ ）\n",
      "A．计算机行业好于化工行业. B．建筑行业好于物流行业.\n",
      "C．机械行业最紧张. D．营销行业比贸易行业紧张.\n",
      "三、解答题(本大题满分86分)\n",
      "------------------------------------------------------------\n",
      "16．④\n",
      "\n",
      "\n",
      "============================================================\n",
      "\n",
      "17．(本题满分12分)\n",
      "已知复数z~1~满足(1+i)z­~1~=－1+5i, z­~2~=a－2－i, 其中i为虚数单位,a∈R, 若\\<,求a的取值范围.\n",
      "------------------------------------------------------------\n",
      "17．本小题考三角函数的基本公式以及三角函数式的恒等基础知识和基本运算技能，满分12分.\n",
      "解法一：由已知得：\n",
      "由已知条件可知\n",
      "解法二：由已知条件可知\n",
      "\n",
      "\n",
      "============================================================\n",
      "\n",
      "18．(本题满分12分)\n",
      "某单位用木料制作如图所示的框架, 框架的下部是边长分别为x、y(单位：m)的矩形.上部是等腰直角三角形. 要求框架围成的总面积8m^2^. 问x、y分别为多少(精确到0.001m) 时用料最省?\n",
      "![](./notebook/image/media/image26.jpeg)\n",
      "------------------------------------------------------------\n",
      "18．本小题主要考查线面关系和正方体等基础知识，考查空间想象能力和推理能力.满分12分.\n",
      "解法一：（Ⅰ）∵A~1~A⊥底面ABCD，则AC是A~1~C在底面ABCD的射影.\n",
      "∵AC⊥BD.∴A~1~C⊥BD.\n",
      "同理A~1~C⊥DC~1~,又BD∩DC~1~=D,\n",
      "∴A~1~C⊥平面BDC~1.~\n",
      "（Ⅱ）取EF的中点H，连结BH、CH，\n",
      "又E、F分别是AC、B~1~C的中点，\n",
      "解法二：（Ⅰ）以点C为坐标原点建立如图所示的空间直角坐标系,则C(0,0,0).\n",
      "D(1,0,0),B(0,1,0),A~1~(1,1,1),C~1~(0,0,1),D~1~(1,0,1)\n",
      "（Ⅱ）同（I）可证，BD~1~⊥平面AB~1~C.\n",
      "\n",
      "\n",
      "============================================================\n",
      "\n",
      "19．(本题满分14分) 第1小题满分6分, 第2小题满分8分.\n",
      "记函数f(x)=的定义域为A, g(x)=lg\\[(x－a－1)(2a－x)\\](a\\<1) 的定义域为B.\n",
      "\\(1\\) 求A；\n",
      "\\(2\\) 若BA, 求实数a的取值范围.\n",
      "------------------------------------------------------------\n",
      "19．本小题主要考查向量的概念，平面向量的运算法则，考查运用向量及函数知识的能力，满分12分.\n",
      "解法二：以直角顶点A为坐标原点，两直角边所在直线为坐标轴建立如图所示的平面直角坐标系.\n",
      "\n",
      "\n",
      "============================================================\n",
      "\n",
      "20．(本题满分14分) 第1小题满分6分, 第2小题满分8分\n",
      "已知二次函数y=f~1~(x)的图象以原点为顶点且过点(1,1),反比例函数y=f~2~(x)的图象与直线y=x的两个交点间距离为8,f(x)= f~1~(x)+ f~2~(x).\n",
      "\\(1\\) 求函数f(x)的表达式；\n",
      "\\(2\\) 证明:当a\\3时,关于x的方程f(x)= f(a) 有三个实数解.\n",
      "------------------------------------------------------------\n",
      "20．本小题主要考查直线、双曲线的方程和性质，曲线与方程的关系，及其综合应用能力，满分12分.\n",
      "解：（Ⅰ）将直线\n",
      "......①\n",
      "依题意，直线l与双曲线C的右支交于不同两点，故\n",
      "（Ⅱ）设A、B两点的坐标分别为、，则由①式得\n",
      "......②\n",
      "假设存在实数k，使得以线段AB为直径的圆经过双曲线C的右焦点F（c,0）.\n",
      "则由FA⊥FB得：\n",
      "整理得\n",
      "......③\n",
      "把②式及代入③式化简得\n",
      "\n",
      "\n",
      "============================================================\n",
      "\n",
      "21．(本题满分16分) 第1小题满分4分, 第2小题满分6分, 第3小题满分6分\n",
      "如图，P---ABC是底面边长为1的正三棱锥,D、E、F分别为棱长PA、PB、PC上的点, 截面DEF∥底面ABC, 且棱台DEF---ABC与棱锥P---ABC的棱长和相等.(棱长和是指多面体中所有棱的长度之和)\n",
      "------------------------------------------------------------\n",
      "．本小题考查概率的基础知识以及运用概率知识解决 实际问题的能力，满分12分.\n",
      "解：方案1：单独采用一种预防措施的费用均不超过120万元.由表可知，采用甲措施，可使此突发事件不发生的概率最大，其概率为0.9.\n",
      "方案2：联合采用两种预防措施，费用不超过120万元，由表可知.联合甲、丙两种预防措施可使此突发事件不发生的概率最大，其概率为\n",
      "1---(1---0.9)(1---0.7)=0.97.\n",
      "方法3：联合采用三种预防措施，费用不超过120万元，故只能联合乙、丙、丁三种预防措施，此时突发事件不发生的概率为\n",
      "1---（1---0.8）(1---0.7)(1---0.6)=1---0.024=0.976.\n",
      "综合上述三种预防方案可知，在总费用不超过120万元的前提下，联合使用乙、丙、丁三种预防措施可使此突发事件不发生的概率最大.\n",
      "22．本小题考查导数、切线、极值等知识及综合运用数学知识解决问题的能力.满分14分.\n",
      "解：（Ⅰ）依题意，令\n",
      "（Ⅱ）\n",
      "  ----- ---- -------- ----\n",
      "  x        x~0~   （\n",
      "        \\+   0        \\+\n",
      "  ----- ---- -------- ----\n",
      "于是不是函数的极值点.\n",
      "的变化如下：\n",
      "  ----- ---- -------- ----- --- ----\n",
      "  x        x~1~             （\n",
      "        \\+   0        ---   0   \\+\n",
      "  ----- ---- -------- ----- --- ----\n",
      "由此，的极小值点.\n",
      "综上所述，当且仅当\n",
      "\n",
      "============================================================\n"
     ]
    }
   ],
   "source": [
    "for row in alignment_answer(all_question, answer_str):\n",
    "    print()\n",
    "    print(row[\"question\"])\n",
    "    print(\"------------------------------------------------------------\")\n",
    "    print(f\"{row['answer']}\")\n",
    "    print()\n",
    "    print(\"============================================================\")"
   ]
  },
  {
   "cell_type": "code",
   "execution_count": 54,
   "id": "d888284a",
   "metadata": {},
   "outputs": [
    {
     "data": {
      "text/plain": [
       "0.9287925696594427"
      ]
     },
     "execution_count": 54,
     "metadata": {},
     "output_type": "execute_result"
    }
   ],
   "source": [
    "data = []\n",
    "for examination_paper in examination_paper_list:\n",
    "   \n",
    "    text = examination_paper[\"text\"]\n",
    "    all_question, split_str = get_all_question(text)\n",
    "    if not all_question:\n",
    "        continue\n",
    "    answer_str = generate_answer_area_string(text, split_str)\n",
    "    question_with_answer = alignment_answer(all_question, answer_str)\n",
    "    data.append(question_with_answer)\n",
    "    \n",
    "len(data) / len(examination_paper_list)"
   ]
  },
  {
   "cell_type": "code",
   "execution_count": null,
   "id": "e414c242",
   "metadata": {},
   "outputs": [],
   "source": []
  }
 ],
 "metadata": {
  "kernelspec": {
   "display_name": "Python 3 (ipykernel)",
   "language": "python",
   "name": "python3"
  },
  "language_info": {
   "codemirror_mode": {
    "name": "ipython",
    "version": 3
   },
   "file_extension": ".py",
   "mimetype": "text/x-python",
   "name": "python",
   "nbconvert_exporter": "python",
   "pygments_lexer": "ipython3",
   "version": "3.10.11"
  }
 },
 "nbformat": 4,
 "nbformat_minor": 5
}
