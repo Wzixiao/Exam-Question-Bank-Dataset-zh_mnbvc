{
 "cells": [
  {
   "cell_type": "code",
   "execution_count": 1,
   "id": "c7e15098",
   "metadata": {},
   "outputs": [],
   "source": [
    "import sys\n",
    "\n",
    "sys.path.append('../')\n",
    "\n",
    "from exam_alignment.utils.alignment_utils import one_file_per_process\n",
    "from exam_alignment.type_exam_parser.abstract_exam_parser import AbstractExamParser\n",
    "from exam_alignment.type_exam_parser.annotated_exam_parser import AnnotatedExamParser\n",
    "from exam_alignment.type_exam_parser.standard_exam_parser import StandardExamParser\n",
    "\n",
    "from exam_alignment.exam_parser_container import ExamParserContainer\n",
    "\n",
    "from exam_alignment.utils.new_alignment_utils import longest_increasing_subsequence_index"
   ]
  },
  {
   "cell_type": "code",
   "execution_count": 2,
   "id": "bf5247b9",
   "metadata": {},
   "outputs": [
    {
     "data": {
      "text/plain": [
       "2230"
      ]
     },
     "execution_count": 2,
     "metadata": {},
     "output_type": "execute_result"
    }
   ],
   "source": [
    "import os\n",
    "import glob\n",
    "from pathlib import Path\n",
    "import re\n",
    "\n",
    "examination_paper_list = []\n",
    "\n",
    "path = Path(\"./docx_markdowns\")\n",
    "\n",
    "for file in path.glob(\"*.md\"):\n",
    "    with open(file, \"r\", encoding=\"utf-8\") as f:\n",
    "        examination_paper_list.append({\n",
    "            \"file_path\": str(file),\n",
    "            \"text\": one_file_per_process(f.read())\n",
    "        })\n",
    "len(examination_paper_list)"
   ]
  },
  {
   "cell_type": "code",
   "execution_count": 3,
   "id": "b0092d1a",
   "metadata": {},
   "outputs": [],
   "source": [
    "remaining_exams = []\n",
    "no_answer_exams = []\n",
    "\n",
    "standard_exams = []\n",
    "annotated_exams = []\n",
    "\n",
    "for exam_info in examination_paper_list:\n",
    "    if not AbstractExamParser.check_contains_answers(exam_info[\"text\"]):\n",
    "        no_answer_exams.append(exam_info)\n",
    "        continue\n",
    "\n",
    "    if StandardExamParser.detect_this_exam_type(exam_info[\"text\"]):\n",
    "        standard_exams.append(exam_info)\n",
    "        continue\n",
    "\n",
    "    if AnnotatedExamParser.detect_this_exam_type(exam_info[\"text\"]):\n",
    "        annotated_exams.append(exam_info)\n",
    "        continue\n",
    "\n",
    "    remaining_exams.append(exam_info)"
   ]
  },
  {
   "cell_type": "code",
   "execution_count": 24,
   "id": "c4769cda",
   "metadata": {},
   "outputs": [
    {
     "data": {
      "text/plain": [
       "951"
      ]
     },
     "execution_count": 24,
     "metadata": {},
     "output_type": "execute_result"
    }
   ],
   "source": [
    "len(remaining_exams)"
   ]
  },
  {
   "cell_type": "code",
   "execution_count": 26,
   "id": "1d84bac8",
   "metadata": {
    "scrolled": false
   },
   "outputs": [
    {
     "name": "stdout",
     "output_type": "stream",
     "text": [
      "北师大版小学五年级上册数学第1单元《小数除法------精打细算》同步检测1（附答案）\n",
      "\n",
      "一、填一填。\n",
      "\n",
      "1.计算11.5÷5，按照( )的法则去计算，只要商的小数点与被除数的小数点( )就行了。\n",
      "\n",
      "2.8.2÷5的商的最高位在( )位上，结果是( )。\n",
      "\n",
      "3.根据1.8×4-7.2，把下题补充完整。\n",
      "\n",
      "7.2÷4=( )\n",
      "\n",
      "4.( )×5=25.05 17×( )=115.6\n",
      "\n",
      "5.9的( )倍是48.6。\n",
      "\n",
      "二、划去每个算式的错误答案。\n",
      "\n",
      "1.13.98÷6 (2.33 2.13) 来源：www.bcjy123.com/tiku/\n",
      "\n",
      "2.12.3÷3 (4.01 4.1)\n",
      "\n",
      "3.15.6÷3 (5.2 5.02)\n",
      "\n",
      "4.12.78÷6 (2.03 2.13)\n",
      "\n",
      "5.6.16÷4 (1.54 1.04)\n",
      "\n",
      "三、用竖式计算。\n",
      "\n",
      "12.8÷5 26.5÷25\n",
      "\n",
      "8.48÷8 8.32÷4\n",
      "\n",
      "来源：www.bcjy123.com/tiku/\n",
      "\n",
      "95.1÷15 31.5÷14\n",
      "\n",
      "四、森林医院。(对的打\"√\"，错的打\"×\"，并改正)\n",
      "\n",
      "1\\. 2 0 5 改正：\n",
      "\n",
      "14 2 8.7\n",
      "\n",
      "[2 8]{.underline}\n",
      "\n",
      "7 0\n",
      "\n",
      "[7 0]{.underline}\n",
      "\n",
      "0 （ ）\n",
      "\n",
      "2\\. 2.1 改正：\n",
      "\n",
      "6 1 2.9\n",
      "\n",
      "[1 2]{.underline}\n",
      "\n",
      "9\n",
      "\n",
      "[6]{.underline}\n",
      "\n",
      "3 （ ）\n",
      "\n",
      "五、完成下表。\n",
      "\n",
      "  -------- ------ ----- ------ -------\n",
      "\n",
      "  被除数   20.1         4.18   18.36\n",
      "\n",
      "  除数     15     12           3\n",
      "\n",
      "  商              3.2   4      \n",
      "\n",
      "  -------- ------ ----- ------ -------\n",
      "\n",
      "六、小兔采蘑菇。\n",
      "\n",
      "3.7÷2 30.6÷15 19.8÷18\n",
      "\n",
      "1.1 1.85 2.04\n",
      "\n",
      "七、解决问题。\n",
      "\n",
      "1.购物小票被弄坏了，你能算出雕牌肥皂的单价吗？\n",
      "\n",
      "![](./docx_images/media/image1.png)\n",
      "\n",
      "2.小明在商店买了6张动画卡片，一共付了l9.2元，你能帮小明算一算平均每张卡片的价钱吗？\n",
      "\n",
      "八、甲、乙两袋大米的总质量是26.8千克，如果从甲袋中取出3.2千克放入乙袋，这时两袋大米的质量相等，原来甲、乙两袋大米各重多少千克？\n",
      "\n",
      "参考答案\n",
      "\n",
      "一、\n",
      "\n",
      "1.整数除法 对齐\n",
      "\n",
      "2.个 1.64\n",
      "\n",
      "3\\. 1.8\n",
      "\n",
      "4\\. 5.01 6.8\n",
      "\n",
      "5\\. 5.4\n",
      "\n",
      "二、1. 2.13 2. 4.01 3. 5.02 4. 2.03 5. 1.04\n",
      "\n",
      "三、2.56 1.06 1.06 2.08 6.34 2.25\n",
      "\n",
      "四、1.× 2.05 2.× 2.15\n",
      "\n",
      "五、1.34 38.4 1.045 6.12\n",
      "\n",
      "六、![](./docx_images/media/image2.jpeg)\n",
      "\n",
      "七、1. 12.50÷5＝2.5（元） 2. 19.2÷6＝3.2（元）\n",
      "\n",
      "八、26.8÷2＝13.4（千克） 甲：13.4+3.2＝16.6（千克）\n",
      "\n",
      "乙：13.4－3.2＝10.2（千克）\n",
      "\n",
      "来源：www.bcjy123.com/tiku/\n",
      "\n",
      "来源：www.bcjy123.com/tiku/\n",
      "\n",
      "来源：www.bcjy123.com/tiku/\n",
      "\n",
      "来源：www.bcjy123.com/tiku/\n",
      "\n",
      "来源：www.bcjy123.com/tiku/\n",
      "\n",
      "来源：www.bcjy123.com/tiku/\n",
      "\n"
     ]
    }
   ],
   "source": [
    "for line in remaining_exams[555][\"text\"].splitlines():\n",
    "    print(line)\n",
    "    print()"
   ]
  },
  {
   "cell_type": "code",
   "execution_count": null,
   "id": "98bf9340",
   "metadata": {},
   "outputs": [],
   "source": []
  }
 ],
 "metadata": {
  "kernelspec": {
   "display_name": "Python 3 (ipykernel)",
   "language": "python",
   "name": "python3"
  },
  "language_info": {
   "codemirror_mode": {
    "name": "ipython",
    "version": 3
   },
   "file_extension": ".py",
   "mimetype": "text/x-python",
   "name": "python",
   "nbconvert_exporter": "python",
   "pygments_lexer": "ipython3",
   "version": "3.10.12"
  }
 },
 "nbformat": 4,
 "nbformat_minor": 5
}
