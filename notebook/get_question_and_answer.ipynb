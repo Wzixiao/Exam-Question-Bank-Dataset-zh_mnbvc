{
 "cells": [
  {
   "cell_type": "markdown",
   "id": "ae3a5d59-ab23-4078-880a-6cf09469934b",
   "metadata": {},
   "source": [
    "# 方向\n",
    "\n",
    "1. 获取试卷类型\n",
    "2. 根据试卷类型提取题目和答案\n",
    "\n",
    "## 暂时规定的类型（可逐步添加-后期也会根据试卷类型进行对齐）：\n",
    "\n",
    "### 0. 未知的\n",
    "\n",
    "### 1. 高考试卷/标准试卷\n",
    "此类试卷是标准的考试试卷类型\n",
    "例如：\n",
    "```\n",
    "试卷部分：\n",
    "一、\n",
    "1....\n",
    "二、\n",
    "13....\n",
    "三、\n",
    "16....\n",
    "\n",
    "答案部分：\n",
    "同上试卷部分...\n",
    "```\n",
    "\n",
    "### 2. 试卷解析\n",
    "此类试卷是讲解试卷的类型，每道题之中存在答案\n",
    "例如：\n",
    "```\n",
    "试卷部分：\n",
    "一、\n",
    "1. 题干... 【答案】... 【解析】... 2....\n",
    "二、\n",
    "13. 题干...【答案】... 【解析】... 14....\n",
    "三、\n",
    "17. 题干...【答案】... 【解析】... 18....\n",
    "```\n"
   ]
  },
  {
   "cell_type": "markdown",
   "id": "a8503796-4533-475c-b02c-6a6ae2bbdd77",
   "metadata": {},
   "source": [
    "## 加载一些可能会用到的函数"
   ]
  },
  {
   "cell_type": "code",
   "execution_count": 2,
   "id": "001563df-ac36-4214-af88-8a37f600ef90",
   "metadata": {},
   "outputs": [],
   "source": [
    "import sys\n",
    "\n",
    "sys.path.append('../')\n",
    "\n",
    "from alignment_utils import one_file_per_process\n",
    "from alignment_utils import extract_and_combine_numbers\n",
    "from alignment_utils import extract_and_combine_numbers_in_not_start\n",
    "from alignment_utils import longest_increasing_subsequence_index\n",
    "from alignment_utils import find_answer_split_str\n",
    "from alignment_utils import find_next_question_index\n",
    "from alignment_utils import refine_answers\n",
    "from alignment_utils import match_specific_from_end\n",
    "from alignment_utils import answer_area_str_process\n",
    "from alignment_utils import generate_answer_area_string\n",
    "from alignment_utils import align_answers_in_questions\n",
    "from alignment_utils import match_specific_from_start\n",
    "from alignment_utils import type_of_judgment\n",
    "from alignment_utils import split_question\n",
    "from alignment_utils import find_continuous_sequence\n",
    "from alignment_utils import extract_and_combine_numbers_in_not_start_by_number"
   ]
  },
  {
   "cell_type": "markdown",
   "id": "1b846e6f-8d7f-4298-8b28-940a9a2815e2",
   "metadata": {},
   "source": [
    "## Load data"
   ]
  },
  {
   "cell_type": "code",
   "execution_count": 3,
   "id": "5cc4a7e1-a9ca-4527-af36-2a85200ee202",
   "metadata": {},
   "outputs": [
    {
     "data": {
      "text/plain": [
       "0"
      ]
     },
     "execution_count": 3,
     "metadata": {},
     "output_type": "execute_result"
    }
   ],
   "source": [
    "import os\n",
    "import glob\n",
    "from pathlib import Path\n",
    "\n",
    "examination_paper_list = []\n",
    "\n",
    "path = Path(\"./docx_markdowns\")\n",
    "\n",
    "for file in path.glob(\"*.md\"):\n",
    "    with open(file, \"r\", encoding=\"utf-8\") as f:\n",
    "        examination_paper_list.append({\n",
    "            \"file_path\": str(file),\n",
    "            \"text\": one_file_per_process(f.read())\n",
    "        })\n",
    "len(examination_paper_list)"
   ]
  },
  {
   "cell_type": "markdown",
   "id": "5c21df3d-c298-4e7e-af28-24e12480efba",
   "metadata": {},
   "source": [
    "## 定义测试数据"
   ]
  },
  {
   "cell_type": "code",
   "execution_count": 4,
   "id": "0f54d283-9b4c-4d3d-88ec-1b425b800653",
   "metadata": {},
   "outputs": [
    {
     "ename": "IndexError",
     "evalue": "list index out of range",
     "output_type": "error",
     "traceback": [
      "\u001b[0;31m---------------------------------------------------------------------------\u001b[0m",
      "\u001b[0;31mIndexError\u001b[0m                                Traceback (most recent call last)",
      "Cell \u001b[0;32mIn[4], line 1\u001b[0m\n\u001b[0;32m----> 1\u001b[0m text \u001b[38;5;241m=\u001b[39m \u001b[43mexamination_paper_list\u001b[49m\u001b[43m[\u001b[49m\u001b[38;5;241;43m800\u001b[39;49m\u001b[43m]\u001b[49m[\u001b[38;5;124m\"\u001b[39m\u001b[38;5;124mtext\u001b[39m\u001b[38;5;124m\"\u001b[39m]\n\u001b[1;32m      2\u001b[0m \u001b[38;5;28;01mfor\u001b[39;00m i \u001b[38;5;129;01min\u001b[39;00m text\u001b[38;5;241m.\u001b[39msplitlines():\n\u001b[1;32m      3\u001b[0m     \u001b[38;5;28mprint\u001b[39m(i)\n",
      "\u001b[0;31mIndexError\u001b[0m: list index out of range"
     ]
    }
   ],
   "source": [
    "text = examination_paper_list[800][\"text\"]\n",
    "for i in text.splitlines():\n",
    "    print(i)"
   ]
  },
  {
   "cell_type": "markdown",
   "id": "5a80f3c5-bc4a-4b45-a010-412b5ac9360a",
   "metadata": {},
   "source": [
    "# 主体函数(检测试卷类型)"
   ]
  },
  {
   "cell_type": "code",
   "execution_count": 6,
   "id": "d75bdba8-59fa-4237-9b9e-b187fd86e058",
   "metadata": {},
   "outputs": [],
   "source": [
    "def find_questions_and_answer_index(lines: list[str]) -> list[int]:\n",
    "    \"\"\"\n",
    "    获取题目和答案的lines下标\n",
    "    \n",
    "    判断行的开始是否为 数字+[. ．]\n",
    "    \"\"\"\n",
    "    indexs = []\n",
    "    pattern = r\"^\\d+[\\.|\\．]\"\n",
    "    for index in range(len(lines)):\n",
    "        match = re.search(pattern, lines[index])\n",
    "        if match: \n",
    "           indexs.append(index)\n",
    "    return indexs "
   ]
  },
  {
   "cell_type": "code",
   "execution_count": null,
   "id": "8fecb4c5-40b6-46bd-b267-e6a62847605f",
   "metadata": {},
   "outputs": [],
   "source": [
    "def check_paper_type(text, answer_keywords=['答案']):\n",
    "    \"\"\"\n",
    "    检查试卷类型\n",
    "    \"\"\"\n",
    "    # 答案出现次数\n",
    "    answer_count = 0\n",
    "    # 拆分成行\n",
    "    lines = text.splitlines()\n",
    "    # 每道题的索引下标\n",
    "    question_indexs = find_question_index(lines)\n",
    "    \n",
    "    for i,question_index in enumerate(question_indexs):\n",
    "        if i+1 == len(question_indexs):\n",
    "            break;\n",
    "        # 获取当前题的文本\n",
    "        current_question = \"\".join(lines[question_index:question_indexs[i+1]])\n",
    "        if any(keyword in current_question for keyword in answer_keywords):\n",
    "            answer_count += 1\n",
    "            \n",
    "    # Todo: 暂时只完成了检测 \"试卷解析 \"类型\n",
    "    if answer_count > len(question_indexs)/2:\n",
    "        return 1\n",
    "    \n",
    "    return 0"
   ]
  },
  {
   "cell_type": "code",
   "execution_count": null,
   "id": "9b2a31c7-a828-4bcc-b20b-b7d6b5704219",
   "metadata": {},
   "outputs": [],
   "source": [
    "print(check_paper_type(text))"
   ]
  },
  {
   "cell_type": "markdown",
   "id": "a7998e33-fe42-4917-aaf3-04ea9288ccc4",
   "metadata": {},
   "source": [
    "## 暂时用不到的代码"
   ]
  },
  {
   "cell_type": "code",
   "execution_count": null,
   "id": "3b7cf0f8-1abc-4eb6-88bd-b006884d4a43",
   "metadata": {},
   "outputs": [],
   "source": [
    "import re\n",
    "\n",
    "def find_one_question_index(lines):\n",
    "    indexs = []\n",
    "    pattern = r'^(一|二|三|四|五|六|七|八|九|十)'\n",
    "    for index in range(len(lines)):\n",
    "        match = re.search(pattern, lines[index])\n",
    "        if match: \n",
    "           indexs.append(index)\n",
    "            \n",
    "    return indexs"
   ]
  }
 ],
 "metadata": {
  "kernelspec": {
   "display_name": "Python 3 (ipykernel)",
   "language": "python",
   "name": "python3"
  },
  "language_info": {
   "codemirror_mode": {
    "name": "ipython",
    "version": 3
   },
   "file_extension": ".py",
   "mimetype": "text/x-python",
   "name": "python",
   "nbconvert_exporter": "python",
   "pygments_lexer": "ipython3",
   "version": "3.11.4"
  }
 },
 "nbformat": 4,
 "nbformat_minor": 5
}
