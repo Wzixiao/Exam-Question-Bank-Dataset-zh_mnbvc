{
 "cells": [
  {
   "cell_type": "code",
   "execution_count": 1,
   "id": "e004081c",
   "metadata": {},
   "outputs": [],
   "source": [
    "import datasets\n",
    "import glob"
   ]
  },
  {
   "cell_type": "code",
   "execution_count": 2,
   "id": "8fc35813",
   "metadata": {},
   "outputs": [],
   "source": [
    "train_dataset = {\"text\":[], \"label\":[]}"
   ]
  },
  {
   "cell_type": "code",
   "execution_count": 3,
   "id": "bd15cef2",
   "metadata": {},
   "outputs": [],
   "source": [
    "math_file_paths = glob.glob(\"../data/examination_paper_markdown\" + '/' + \"*.md\")\n",
    "\n",
    "for file_path in math_file_paths:\n",
    "    with open(file_path, \"r\", encoding=\"utf-8\") as f:\n",
    "        train_dataset[\"text\"].append(f.read())\n",
    "        train_dataset[\"label\"].append(1)"
   ]
  },
  {
   "cell_type": "code",
   "execution_count": 4,
   "id": "a07924dd",
   "metadata": {},
   "outputs": [],
   "source": [
    "math_file_paths = glob.glob(\"../data/not_examination_paper_markdown\" + '/' + \"*.md\")\n",
    "\n",
    "for file_path in math_file_paths:\n",
    "    with open(file_path, \"r\", encoding=\"utf-8\") as f:\n",
    "        train_dataset[\"text\"].append(f.read())\n",
    "        train_dataset[\"label\"].append(0)"
   ]
  },
  {
   "cell_type": "code",
   "execution_count": 5,
   "id": "cd080e7f",
   "metadata": {},
   "outputs": [],
   "source": [
    "train_dataset = datasets.Dataset.from_dict(train_dataset)"
   ]
  },
  {
   "cell_type": "code",
   "execution_count": 6,
   "id": "9004b186",
   "metadata": {},
   "outputs": [
    {
     "data": {
      "text/plain": [
       "Dataset({\n",
       "    features: ['text', 'label'],\n",
       "    num_rows: 2779\n",
       "})"
      ]
     },
     "execution_count": 6,
     "metadata": {},
     "output_type": "execute_result"
    }
   ],
   "source": [
    "train_dataset"
   ]
  },
  {
   "cell_type": "code",
   "execution_count": 7,
   "id": "10ce09a1",
   "metadata": {},
   "outputs": [],
   "source": [
    "test_dataset = {\"text\":[], \"label\":[]}"
   ]
  },
  {
   "cell_type": "code",
   "execution_count": 8,
   "id": "096b5584",
   "metadata": {},
   "outputs": [],
   "source": [
    "math_file_paths = glob.glob(\"../data/test_examination_paper_markdown\" + '/' + \"*.md\")\n",
    "\n",
    "for file_path in math_file_paths:\n",
    "    with open(file_path, \"r\", encoding=\"utf-8\") as f:\n",
    "        test_dataset[\"text\"].append(f.read())\n",
    "        test_dataset[\"label\"].append(1)"
   ]
  },
  {
   "cell_type": "code",
   "execution_count": 9,
   "id": "0eaac6bd",
   "metadata": {},
   "outputs": [],
   "source": [
    "math_file_paths = glob.glob(\"../data/test_not_examination_paper_markdown\" + '/' + \"*.md\")\n",
    "\n",
    "for file_path in math_file_paths:\n",
    "    with open(file_path, \"r\", encoding=\"utf-8\") as f:\n",
    "        test_dataset[\"text\"].append(f.read())\n",
    "        test_dataset[\"label\"].append(0)"
   ]
  },
  {
   "cell_type": "code",
   "execution_count": 10,
   "id": "9a185f92",
   "metadata": {},
   "outputs": [],
   "source": [
    "test_dataset = datasets.Dataset.from_dict(test_dataset)"
   ]
  },
  {
   "cell_type": "code",
   "execution_count": 11,
   "id": "50651696",
   "metadata": {},
   "outputs": [],
   "source": [
    "datadict = datasets.DatasetDict({\n",
    "    \"train\":train_dataset,\n",
    "    \"test\":test_dataset\n",
    "})"
   ]
  },
  {
   "cell_type": "code",
   "execution_count": 196,
   "id": "29ca0b11",
   "metadata": {},
   "outputs": [
    {
     "data": {
      "application/vnd.jupyter.widget-view+json": {
       "model_id": "",
       "version_major": 2,
       "version_minor": 0
      },
      "text/plain": [
       "Saving the dataset (0/1 shards):   0%|          | 0/2779 [00:00<?, ? examples/s]"
      ]
     },
     "metadata": {},
     "output_type": "display_data"
    },
    {
     "data": {
      "application/vnd.jupyter.widget-view+json": {
       "model_id": "",
       "version_major": 2,
       "version_minor": 0
      },
      "text/plain": [
       "Saving the dataset (0/1 shards):   0%|          | 0/387 [00:00<?, ? examples/s]"
      ]
     },
     "metadata": {},
     "output_type": "display_data"
    }
   ],
   "source": [
    "datadict.save_to_disk(\"./dataset\")"
   ]
  },
  {
   "cell_type": "code",
   "execution_count": null,
   "id": "03a601ca",
   "metadata": {},
   "outputs": [],
   "source": []
  }
 ],
 "metadata": {
  "kernelspec": {
   "display_name": "Python 3 (ipykernel)",
   "language": "python",
   "name": "python3"
  },
  "language_info": {
   "codemirror_mode": {
    "name": "ipython",
    "version": 3
   },
   "file_extension": ".py",
   "mimetype": "text/x-python",
   "name": "python",
   "nbconvert_exporter": "python",
   "pygments_lexer": "ipython3",
   "version": "3.10.11"
  }
 },
 "nbformat": 4,
 "nbformat_minor": 5
}
