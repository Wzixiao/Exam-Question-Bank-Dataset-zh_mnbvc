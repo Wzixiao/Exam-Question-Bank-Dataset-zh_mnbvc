{
 "cells": [
  {
   "cell_type": "code",
   "execution_count": 25,
   "id": "f117bc3b",
   "metadata": {},
   "outputs": [],
   "source": [
    "import openai\n",
    "import os\n",
    "\n",
    "openai.api_key = os.environ.get('OPENAI_API_KEY')\n",
    "\n",
    "def sent_gpt_request(text, retries=3):\n",
    "    print(\"正在请求...\")\n",
    "\n",
    "    retries_total = 0\n",
    "    while retries_total < retries:\n",
    "        try:\n",
    "            completion = openai.ChatCompletion.create(\n",
    "                model=\"gpt-3.5-turbo-16k-0613\",\n",
    "                messages=[\n",
    "                    {\"role\": \"user\", \"content\": \"\"\"你的任务是从一篇试卷中找到答题区与答案区。并返回分割的字符串，确保整个字符串可以把整篇试卷分割成两部分。我需要你找到一个特定的字符串或者标记，这个标记在试卷中唯一出现，并且位于答题区和答案区之间。\"\"\"},\n",
    "                    {\"role\": \"assistant\", \"content\": \"我理解你的需求，我需要找到一个唯一的字符串或标记，它可以将试卷的答题区和答案区分开。现在，请提供你的试卷。\"},\n",
    "                    {\"role\": \"user\", \"content\":text},\n",
    "                    {\"role\": \"assistant\", \"content\": '正在分析试卷，寻找可以将答题区与答案区分开的唯一字符串或标记。请稍等，这可能需要一些时间..., 可以将答题区与答案区分开的唯一字符串是\\n'},\n",
    "                ],\n",
    "                temperature=0.1,\n",
    "            )\n",
    "            return completion.choices[0][\"message\"][\"content\"]\n",
    "        except Exception as e:\n",
    "            retries_total += 1\n",
    "            print(f\"请求失败重新请求中... {e}\")\n",
    "\n",
    "    return None"
   ]
  },
  {
   "cell_type": "code",
   "execution_count": 2,
   "id": "edf71ef0",
   "metadata": {},
   "outputs": [],
   "source": [
    "def per_process(text):\n",
    "    liens = text.splitlines()\n",
    "    liens = map(lambda x: x.replace(\"> \",\"\").replace(\">\",\"\").replace(\"*\", \"\"), liens)\n",
    "    liens = filter(lambda x: x.strip() != \"\", liens)\n",
    "   \n",
    "    return \"\\n\".join(liens)"
   ]
  },
  {
   "cell_type": "code",
   "execution_count": 3,
   "id": "fe8f2d4d",
   "metadata": {},
   "outputs": [],
   "source": [
    "import os\n",
    "import glob\n",
    "from pathlib import Path\n",
    "\n",
    "examination_paper_list = []\n",
    "\n",
    "path = Path(\"./answer_markdown\")\n",
    "\n",
    "for file in path.glob(\"*.md\"):\n",
    "    with open(file, \"r\", encoding=\"utf-8\") as f:\n",
    "        examination_paper_list.append({\n",
    "            \"file_path\": file,\n",
    "            \"text\": f.read()\n",
    "        })"
   ]
  },
  {
   "cell_type": "code",
   "execution_count": null,
   "id": "f9732533",
   "metadata": {
    "scrolled": true
   },
   "outputs": [
    {
     "name": "stdout",
     "output_type": "stream",
     "text": [
      "正在请求...\n",
      "正在请求...\n",
      "正在请求...\n",
      "正在请求...\n",
      "正在请求...\n",
      "正在请求...\n",
      "正在请求...\n",
      "正在请求...\n",
      "正在请求...\n",
      "正在请求...\n",
      "正在请求...\n",
      "正在请求...\n",
      "正在请求...\n",
      "正在请求...\n",
      "正在请求...\n",
      "正在请求...\n",
      "正在请求...\n",
      "正在请求...\n",
      "正在请求...\n",
      "正在请求...\n",
      "正在请求...\n",
      "正在请求...\n",
      "正在请求...\n",
      "正在请求...\n",
      "正在请求...\n",
      "正在请求...\n",
      "正在请求...\n",
      "正在请求...\n",
      "正在请求...\n",
      "正在请求...\n",
      "正在请求...\n",
      "正在请求...\n",
      "正在请求...\n",
      "正在请求...\n",
      "正在请求...\n",
      "正在请求...\n",
      "正在请求...\n",
      "正在请求...\n",
      "正在请求...\n",
      "正在请求...\n",
      "正在请求...\n"
     ]
    }
   ],
   "source": [
    "import json\n",
    "\n",
    "for examination_paper in examination_paper_list:\n",
    "    text = examination_paper[\"text\"]\n",
    "    result = sent_gpt_request(text)\n",
    "    with open(\"gpt_split.jsonl\", \"a\") as f:\n",
    "        f.write(json.dumps({\"text\":text, \"unprocessed_split_str\":result}) + \"\\n\")"
   ]
  },
  {
   "cell_type": "code",
   "execution_count": 28,
   "id": "d0a4a330",
   "metadata": {},
   "outputs": [
    {
     "name": "stdout",
     "output_type": "stream",
     "text": [
      "正在请求...\n"
     ]
    },
    {
     "data": {
      "text/plain": [
       "'\"三．解答题：本大题共6小题，共74分。解答应写出文字说明，证明过程或演算步骤。\"。\\n\\n根据这个标记，试卷可以分为两部分：选择题和填空题（一部分），以及解答题（另一部分）。'"
      ]
     },
     "execution_count": 28,
     "metadata": {},
     "output_type": "execute_result"
    }
   ],
   "source": [
    "result = sent_gpt_request(examination_paper_list[12][\"text\"])\n",
    "result"
   ]
  },
  {
   "cell_type": "code",
   "execution_count": null,
   "id": "695138a5",
   "metadata": {},
   "outputs": [],
   "source": [
    "text.split(\"参考答案\")[1]"
   ]
  },
  {
   "cell_type": "markdown",
   "id": "44abab61",
   "metadata": {},
   "source": [
    "# Read"
   ]
  },
  {
   "cell_type": "code",
   "execution_count": 8,
   "id": "2170625c",
   "metadata": {},
   "outputs": [],
   "source": [
    "import json\n",
    "\n",
    "data = []\n",
    "    \n",
    "with open(\"gpt_split.jsonl\", \"r\") as f:\n",
    "    for line in f:\n",
    "        data.append(json.loads(line))\n"
   ]
  },
  {
   "cell_type": "code",
   "execution_count": 16,
   "id": "702c0638",
   "metadata": {},
   "outputs": [
    {
     "name": "stdout",
     "output_type": "stream",
     "text": [
      "\"**参考答案**\n",
      "\n",
      "\"【 】\n",
      "\"**参考答案**\n",
      "\n",
      "\"**参考答案**\n",
      "\n",
      "\"【 】\n",
      "\n",
      "\"\\[Key\\]\n",
      "\"【 】\\[Key\\]\n",
      "\"**第Ⅱ卷**(非选择题共85分)\n",
      "\"[Key]\n",
      "\"[Key] \n",
      "\"参考公式：\n",
      "\"第Ⅱ卷（非选择题共90分）\n",
      "\"第Ⅱ卷（非选择题共90分）\n",
      "\"（22）（本小题满分12分，附加题满分4分）\n",
      "\"数学（文史类）参考答案\n",
      "\"参考答案\n",
      "\n",
      "\"参考答案\n",
      "\"参考答案\n",
      "\"参考答案\n",
      "\"参考答案\n",
      "\"数学参考答案（文史类 湖南卷）\n",
      "\"参考答案\n",
      "\"参考答案\n",
      "\"参考答案\n",
      "\"参考答案\n",
      "\"第Ⅱ卷\n",
      "\"参考答案\n",
      "\"参考答案\n",
      "\"第Ⅱ卷\n",
      "\"第二卷(共40分)\n",
      "\"【**解析**】\n",
      "\"广东数学标准答案\n",
      "\"参考答案\n",
      "\"第Ⅱ卷（非选择题 共90分）\n",
      "\"第Ⅱ卷（非选择题 共90分）\n",
      "\"参考答案\n",
      "\"参考答案\n",
      "\n",
      "\"参考答案\n",
      "\"数学试题（文史类）参考解答\n"
     ]
    }
   ],
   "source": [
    "for row in data:\n",
    "    if row[\"unprocessed_split_str\"]:\n",
    "        unprocessed_split_str = row[\"unprocessed_split_str\"]\n",
    "#         print(row[\"text\"].split(unprocessed_split_str[unprocessed_split_str.find(\"\\\"\"):unprocessed_split_str.rfind(\"\\\"\")]))\n",
    "        print(unprocessed_split_str[unprocessed_split_str.find(\"\\\"\"):unprocessed_split_str.rfind(\"\\\"\")])"
   ]
  },
  {
   "cell_type": "code",
   "execution_count": null,
   "id": "771583b7",
   "metadata": {},
   "outputs": [],
   "source": []
  }
 ],
 "metadata": {
  "kernelspec": {
   "display_name": "Python 3 (ipykernel)",
   "language": "python",
   "name": "python3"
  },
  "language_info": {
   "codemirror_mode": {
    "name": "ipython",
    "version": 3
   },
   "file_extension": ".py",
   "mimetype": "text/x-python",
   "name": "python",
   "nbconvert_exporter": "python",
   "pygments_lexer": "ipython3",
   "version": "3.10.11"
  }
 },
 "nbformat": 4,
 "nbformat_minor": 5
}
